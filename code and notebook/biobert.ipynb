{
 "cells": [
  {
   "cell_type": "code",
   "execution_count": 13,
   "metadata": {},
   "outputs": [
    {
     "name": "stdout",
     "output_type": "stream",
     "text": [
      "Looking in indexes: https://pypi.tuna.tsinghua.edu.cn/simple\n",
      "Requirement already satisfied: tensorflow-gpu==1.11.0 in c:\\users\\jianing.a.huang\\appdata\\local\\continuum\\anaconda3\\envs\\smart_legal_pipeline\\lib\\site-packages (from -r biobert_re/requirements.txt (line 1)) (1.11.0)\n",
      "Requirement already satisfied: bert-tensorflow in c:\\users\\jianing.a.huang\\appdata\\local\\continuum\\anaconda3\\envs\\smart_legal_pipeline\\lib\\site-packages (from -r biobert_re/requirements.txt (line 5)) (1.0.1)\n",
      "Requirement already satisfied: sklearn in c:\\users\\jianing.a.huang\\appdata\\local\\continuum\\anaconda3\\envs\\smart_legal_pipeline\\lib\\site-packages (from -r biobert_re/requirements.txt (line 9)) (0.0)\n",
      "Requirement already satisfied: pandas==0.23 in c:\\users\\jianing.a.huang\\appdata\\local\\continuum\\anaconda3\\envs\\smart_legal_pipeline\\lib\\site-packages (from -r biobert_re/requirements.txt (line 10)) (0.23.0)\n",
      "Requirement already satisfied: grpcio>=1.8.6 in c:\\users\\jianing.a.huang\\appdata\\local\\continuum\\anaconda3\\envs\\smart_legal_pipeline\\lib\\site-packages (from tensorflow-gpu==1.11.0->-r biobert_re/requirements.txt (line 1)) (1.28.1)\n",
      "Requirement already satisfied: setuptools<=39.1.0 in c:\\users\\jianing.a.huang\\appdata\\local\\continuum\\anaconda3\\envs\\smart_legal_pipeline\\lib\\site-packages\\setuptools-27.2.0-py3.6.egg (from tensorflow-gpu==1.11.0->-r biobert_re/requirements.txt (line 1)) (27.2.0)\n",
      "Requirement already satisfied: astor>=0.6.0 in c:\\users\\jianing.a.huang\\appdata\\local\\continuum\\anaconda3\\envs\\smart_legal_pipeline\\lib\\site-packages (from tensorflow-gpu==1.11.0->-r biobert_re/requirements.txt (line 1)) (0.8.1)\n",
      "Requirement already satisfied: keras-applications>=1.0.5 in c:\\users\\jianing.a.huang\\appdata\\local\\continuum\\anaconda3\\envs\\smart_legal_pipeline\\lib\\site-packages (from tensorflow-gpu==1.11.0->-r biobert_re/requirements.txt (line 1)) (1.0.8)\n",
      "Requirement already satisfied: six>=1.10.0 in c:\\users\\jianing.a.huang\\appdata\\local\\continuum\\anaconda3\\envs\\smart_legal_pipeline\\lib\\site-packages (from tensorflow-gpu==1.11.0->-r biobert_re/requirements.txt (line 1)) (1.12.0)\n",
      "Requirement already satisfied: absl-py>=0.1.6 in c:\\users\\jianing.a.huang\\appdata\\local\\continuum\\anaconda3\\envs\\smart_legal_pipeline\\lib\\site-packages (from tensorflow-gpu==1.11.0->-r biobert_re/requirements.txt (line 1)) (0.9.0)\n",
      "Requirement already satisfied: termcolor>=1.1.0 in c:\\users\\jianing.a.huang\\appdata\\local\\continuum\\anaconda3\\envs\\smart_legal_pipeline\\lib\\site-packages (from tensorflow-gpu==1.11.0->-r biobert_re/requirements.txt (line 1)) (1.1.0)\n",
      "Requirement already satisfied: numpy>=1.13.3 in c:\\users\\jianing.a.huang\\appdata\\local\\continuum\\anaconda3\\envs\\smart_legal_pipeline\\lib\\site-packages (from tensorflow-gpu==1.11.0->-r biobert_re/requirements.txt (line 1)) (1.16.2)\n",
      "Requirement already satisfied: wheel>=0.26 in c:\\users\\jianing.a.huang\\appdata\\local\\continuum\\anaconda3\\envs\\smart_legal_pipeline\\lib\\site-packages (from tensorflow-gpu==1.11.0->-r biobert_re/requirements.txt (line 1)) (0.33.4)\n",
      "Requirement already satisfied: protobuf>=3.6.0 in c:\\users\\jianing.a.huang\\appdata\\local\\continuum\\anaconda3\\envs\\smart_legal_pipeline\\lib\\site-packages (from tensorflow-gpu==1.11.0->-r biobert_re/requirements.txt (line 1)) (3.6.1)\n",
      "Requirement already satisfied: tensorboard<1.12.0,>=1.11.0 in c:\\users\\jianing.a.huang\\appdata\\local\\continuum\\anaconda3\\envs\\smart_legal_pipeline\\lib\\site-packages (from tensorflow-gpu==1.11.0->-r biobert_re/requirements.txt (line 1)) (1.11.0)\n",
      "Requirement already satisfied: keras-preprocessing>=1.0.3 in c:\\users\\jianing.a.huang\\appdata\\local\\continuum\\anaconda3\\envs\\smart_legal_pipeline\\lib\\site-packages (from tensorflow-gpu==1.11.0->-r biobert_re/requirements.txt (line 1)) (1.1.0)\n",
      "Requirement already satisfied: gast>=0.2.0 in c:\\users\\jianing.a.huang\\appdata\\local\\continuum\\anaconda3\\envs\\smart_legal_pipeline\\lib\\site-packages (from tensorflow-gpu==1.11.0->-r biobert_re/requirements.txt (line 1)) (0.3.3)\n",
      "Requirement already satisfied: scikit-learn in c:\\users\\jianing.a.huang\\appdata\\local\\continuum\\anaconda3\\envs\\smart_legal_pipeline\\lib\\site-packages (from sklearn->-r biobert_re/requirements.txt (line 9)) (0.22)\n",
      "Requirement already satisfied: python-dateutil>=2.5.0 in c:\\users\\jianing.a.huang\\appdata\\local\\continuum\\anaconda3\\envs\\smart_legal_pipeline\\lib\\site-packages (from pandas==0.23->-r biobert_re/requirements.txt (line 10)) (2.8.0)\n",
      "Requirement already satisfied: pytz>=2011k in c:\\users\\jianing.a.huang\\appdata\\local\\continuum\\anaconda3\\envs\\smart_legal_pipeline\\lib\\site-packages (from pandas==0.23->-r biobert_re/requirements.txt (line 10)) (2018.7)\n",
      "Requirement already satisfied: h5py in c:\\users\\jianing.a.huang\\appdata\\local\\continuum\\anaconda3\\envs\\smart_legal_pipeline\\lib\\site-packages (from keras-applications>=1.0.5->tensorflow-gpu==1.11.0->-r biobert_re/requirements.txt (line 1)) (2.10.0)\n",
      "Requirement already satisfied: markdown>=2.6.8 in c:\\users\\jianing.a.huang\\appdata\\local\\continuum\\anaconda3\\envs\\smart_legal_pipeline\\lib\\site-packages (from tensorboard<1.12.0,>=1.11.0->tensorflow-gpu==1.11.0->-r biobert_re/requirements.txt (line 1)) (3.2.1)\n",
      "Requirement already satisfied: werkzeug>=0.11.10 in c:\\users\\jianing.a.huang\\appdata\\local\\continuum\\anaconda3\\envs\\smart_legal_pipeline\\lib\\site-packages (from tensorboard<1.12.0,>=1.11.0->tensorflow-gpu==1.11.0->-r biobert_re/requirements.txt (line 1)) (1.0.0)\n",
      "Requirement already satisfied: joblib>=0.11 in c:\\users\\jianing.a.huang\\appdata\\local\\continuum\\anaconda3\\envs\\smart_legal_pipeline\\lib\\site-packages (from scikit-learn->sklearn->-r biobert_re/requirements.txt (line 9)) (0.13.2)\n",
      "Requirement already satisfied: scipy>=0.17.0 in c:\\users\\jianing.a.huang\\appdata\\local\\continuum\\anaconda3\\envs\\smart_legal_pipeline\\lib\\site-packages (from scikit-learn->sklearn->-r biobert_re/requirements.txt (line 9)) (1.2.1)\n"
     ]
    }
   ],
   "source": [
    "# install necessary packages\n",
    "!pip install -r biobert_re/requirements.txt"
   ]
  },
  {
   "cell_type": "code",
   "execution_count": null,
   "metadata": {},
   "outputs": [],
   "source": [
    "import tensorflow as tf\n",
    "import numpy as np\n",
    "import copy\n",
    "from bert import modeling,optimization,tokenization\n",
    "from biobert_re.bert_predictor import BertPredictor\n",
    "from biobert_re.data.Input import InputExample, InputFeatures, example2feature"
   ]
  },
  {
   "cell_type": "markdown",
   "metadata": {},
   "source": [
    "# Configuration"
   ]
  },
  {
   "cell_type": "code",
   "execution_count": 2,
   "metadata": {},
   "outputs": [],
   "source": [
    "config_path = 'biobert/biobert_base/bert_config.json'\n",
    "checkpoint_path = 'biobert/re_outputs_1/model.ckpt-449'\n",
    "dict_path = 'biobert/biobert_base/vocab.txt'\n",
    "\n",
    "max_seq_length = 128\n",
    "bert_config = modeling.BertConfig.from_json_file(config_path)"
   ]
  },
  {
   "cell_type": "code",
   "execution_count": null,
   "metadata": {},
   "outputs": [],
   "source": [
    "tokenizer = tokenization.FullTokenizer(vocab_file=dict_path,do_lower_case=False)"
   ]
  },
  {
   "cell_type": "markdown",
   "metadata": {},
   "source": [
    "# Convert sample to feature"
   ]
  },
  {
   "cell_type": "code",
   "execution_count": 5,
   "metadata": {},
   "outputs": [],
   "source": [
    "guid = 0\n",
    "sentence = \"In comparison, @GENE$ is distant from and less related to the @DISEASE$. \""
   ]
  },
  {
   "cell_type": "code",
   "execution_count": 6,
   "metadata": {},
   "outputs": [
    {
     "name": "stdout",
     "output_type": "stream",
     "text": [
      "tokens: ['In', 'comparison', ',', '@', 'GE', '##NE', '$', 'is', 'distant', 'from', 'and', 'less', 'related', 'to', 'the', '@', 'D', '##IS', '##EA', '##SE', '$', '.']\n"
     ]
    }
   ],
   "source": [
    "example = InputExample(guid = guid, text = sentence)\n",
    "feature = example2feature(example,tokenizer,128)\n",
    "\n",
    "# convert to numpy array\n",
    "input_ids = np.reshape(np.array(feature.input_ids),(1,-1))\n",
    "input_mask = np.reshape(np.array(feature.input_mask),(1,-1))"
   ]
  },
  {
   "cell_type": "markdown",
   "metadata": {},
   "source": [
    "# Build computation graph and initialize weigths from checkpoint\n"
   ]
  },
  {
   "cell_type": "code",
   "execution_count": 7,
   "metadata": {},
   "outputs": [],
   "source": [
    "# construct graph\n",
    "model = BertPredictor(bert_config)\n",
    "# initialize weights\n",
    "model.initialize_ckpt(checkpoint_path)\n",
    "# get probability tensor\n",
    "probabilities = model.predict()"
   ]
  },
  {
   "cell_type": "markdown",
   "metadata": {},
   "source": [
    "# Start Session and get prediction"
   ]
  },
  {
   "cell_type": "code",
   "execution_count": 8,
   "metadata": {},
   "outputs": [],
   "source": [
    "# run session to get probability\n",
    "with tf.Session() as sess:\n",
    "    # sess.run(tf.variables_initializer(tf.global_variables()))\n",
    "    sess.run(tf.global_variables_initializer())\n",
    "    # saver.restore(sess,save_path=checkpoint_path)\n",
    "    probability = sess.run(probabilities,feed_dict={\n",
    "        model.input_ids: input_ids,\n",
    "        model.input_mask: input_mask\n",
    "    })"
   ]
  },
  {
   "cell_type": "code",
   "execution_count": 9,
   "metadata": {},
   "outputs": [
    {
     "data": {
      "text/plain": [
       "array([[0.9280718 , 0.07192817]], dtype=float32)"
      ]
     },
     "execution_count": 9,
     "metadata": {},
     "output_type": "execute_result"
    }
   ],
   "source": [
    "probability"
   ]
  },
  {
   "cell_type": "code",
   "execution_count": null,
   "metadata": {},
   "outputs": [],
   "source": []
  }
 ],
 "metadata": {
  "kernelspec": {
   "display_name": "Python 3",
   "language": "python",
   "name": "python3"
  },
  "language_info": {
   "codemirror_mode": {
    "name": "ipython",
    "version": 3
   },
   "file_extension": ".py",
   "mimetype": "text/x-python",
   "name": "python",
   "nbconvert_exporter": "python",
   "pygments_lexer": "ipython3",
   "version": "3.6.7"
  }
 },
 "nbformat": 4,
 "nbformat_minor": 2
}
