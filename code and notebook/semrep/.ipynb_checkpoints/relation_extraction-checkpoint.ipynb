{
 "cells": [
  {
   "cell_type": "markdown",
   "metadata": {},
   "source": [
    "# Read abstract"
   ]
  },
  {
   "cell_type": "code",
   "execution_count": 1,
   "metadata": {},
   "outputs": [],
   "source": [
    "import os\n",
    "import json\n",
    "from semrep import SemRep"
   ]
  },
  {
   "cell_type": "code",
   "execution_count": 7,
   "metadata": {},
   "outputs": [],
   "source": [
    "input_folder = \"C:/Users/jianing.a.huang/OneDrive - Accenture/Playground/COVID-19/CORD-19-research-challenge/biorxiv_medrxiv/biorxiv_medrxiv\"\n",
    "output_folder = \"output_biorxiv_medrxiv\"\n",
    "extractor = SemRep()\n",
    "for path in os.listdir(input_folder)[0:10]:\n",
    "    results = []\n",
    "    with open(os.path.join(input_folder,path)) as file:\n",
    "        doc = json.loads(file.read())\n",
    "        abstract = doc[\"abstract\"]\n",
    "        for paragraph in abstract:\n",
    "            results.append(paragraph)\n",
    "            #results.append(extractor.extract_relation(paragraph[\"text\"]))\n",
    "    with open(os.path.join(output_folder, path),'w') as file:\n",
    "        file.write(json.dumps(results,indent=4))"
   ]
  },
  {
   "cell_type": "code",
   "execution_count": null,
   "metadata": {},
   "outputs": [],
   "source": []
  }
 ],
 "metadata": {
  "kernelspec": {
   "display_name": "Python 3",
   "language": "python",
   "name": "python3"
  },
  "language_info": {
   "codemirror_mode": {
    "name": "ipython",
    "version": 3
   },
   "file_extension": ".py",
   "mimetype": "text/x-python",
   "name": "python",
   "nbconvert_exporter": "python",
   "pygments_lexer": "ipython3",
   "version": "3.6.7"
  }
 },
 "nbformat": 4,
 "nbformat_minor": 2
}
