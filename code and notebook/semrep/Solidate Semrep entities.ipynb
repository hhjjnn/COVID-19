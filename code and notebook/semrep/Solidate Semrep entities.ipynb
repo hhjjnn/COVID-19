{
 "cells": [
  {
   "cell_type": "code",
   "execution_count": 1,
   "metadata": {},
   "outputs": [],
   "source": [
    "import mysql.connector\n",
    "import json, os\n",
    "import pandas as pd\n",
    "from semrep import get_oneof_type\n",
    "from semrep import filter_relations, filter_entities"
   ]
  },
  {
   "cell_type": "markdown",
   "metadata": {},
   "source": [
    "# Extraction relations from Semrep output"
   ]
  },
  {
   "cell_type": "markdown",
   "metadata": {},
   "source": [
    "## Specify mapping to parse lines from Semrep text.out"
   ]
  },
  {
   "cell_type": "code",
   "execution_count": 2,
   "metadata": {},
   "outputs": [],
   "source": [
    "mappings = {\n",
    "        \"path\": 1,\n",
    "        \"text\": {\n",
    "            \"sent_id\": 4,\n",
    "            \"sent_text\": 6\n",
    "        },\n",
    "        \"entity\": {\n",
    "            'cuid': 6,\n",
    "            'label': 7,\n",
    "            'sem_types': 8,\n",
    "            'score': 15\n",
    "        },\n",
    "        \"relation\": {\n",
    "            'subject_cui': 8,\n",
    "            'subject_label': 9,\n",
    "            'subject_sem_types': 10,\n",
    "            'subject_sem_type': 11,\n",
    "            'subject_score': 18,\n",
    "            'predicate_type': 21,\n",
    "            'predicate': 22,\n",
    "            'negation': 23,\n",
    "            'object_cui': 28,\n",
    "            'object_label': 29,\n",
    "            'object_sem_types': 30,\n",
    "            'object_sem_type': 31,\n",
    "            'object_score': 38,\n",
    "        }\n",
    "    }"
   ]
  },
  {
   "cell_type": "markdown",
   "metadata": {},
   "source": [
    "## Parse lines in relations and get all extracted entities in file"
   ]
  },
  {
   "cell_type": "code",
   "execution_count": 3,
   "metadata": {},
   "outputs": [],
   "source": [
    "text_out = \"output_relations/custom_license_pdf/text.out\""
   ]
  },
  {
   "cell_type": "code",
   "execution_count": null,
   "metadata": {},
   "outputs": [],
   "source": [
    "extraction = {}\n",
    "\n",
    "file = open(text_out,encoding='utf-8')\n",
    "for line in file:\n",
    "    results = {'entities': []}\n",
    "    # If Sentence\n",
    "    if line.startswith('SE'):\n",
    "        elements = line.split('|')\n",
    "        path = elements[1]\n",
    "        if elements[5] == 'entity':\n",
    "            tmp = {}\n",
    "            for key, ind in mappings['entity'].items():\n",
    "                if 'sem_types' in key:\n",
    "                    tmp[key] = elements[ind].split(',')\n",
    "                else:\n",
    "                    \n",
    "                    tmp[key] = elements[ind]\n",
    "            results['entities'].append(tmp)\n",
    "            extraction[path] = extraction.get(path, []) + results['entities']\n",
    "file.close()"
   ]
  },
  {
   "cell_type": "markdown",
   "metadata": {},
   "source": [
    "## Output"
   ]
  },
  {
   "cell_type": "code",
   "execution_count": null,
   "metadata": {},
   "outputs": [],
   "source": [
    "with open(\"output_relations/custom_license_pdf/entities.json\",'w') as file:\n",
    "    file.write(json.dumps(extraction, indent=4))"
   ]
  },
  {
   "cell_type": "markdown",
   "metadata": {},
   "source": [
    "# Filter entities"
   ]
  },
  {
   "cell_type": "markdown",
   "metadata": {},
   "source": [
    "## Form tuples of (FileId, ISABOUT , CUI)"
   ]
  },
  {
   "cell_type": "code",
   "execution_count": null,
   "metadata": {},
   "outputs": [],
   "source": [
    "input_file = \"output_relations/custom_license_pdf/entities.json\""
   ]
  },
  {
   "cell_type": "code",
   "execution_count": null,
   "metadata": {},
   "outputs": [],
   "source": [
    "all_entities = []\n",
    "with open(input_file) as file:\n",
    "    doc = json.loads(file.read())\n",
    "    for key, value in doc.items():\n",
    "        # form quadruple of relations\n",
    "        tuple_entities = [(key, 'ISABOUT', entity[\"cuid\"])\\\n",
    "                        for entity in value ]\n",
    "\n",
    "            \n",
    "        all_entities += tuple_entities"
   ]
  },
  {
   "cell_type": "markdown",
   "metadata": {},
   "source": [
    "## filter relations\n",
    "\n",
    "Only get relations that connect entities from one of the entity types ['T047', 'T028', 'T121', 'T103', 'T184'], that is [Disease, Gene, PharmaSub, Chemical, Symptom]"
   ]
  },
  {
   "cell_type": "code",
   "execution_count": null,
   "metadata": {},
   "outputs": [],
   "source": [
    "# initialize mysql connector\n",
    "cnx = mysql.connector.connect(user='root', password='12345678',\n",
    "                              host='127.0.0.1',\n",
    "                              database='umls')\n",
    "cursor = cnx.cursor()\n",
    "filtered_entities = filter_entities(cursor, all_entities)\n",
    "\n",
    "\n",
    "cursor.close()\n",
    "cnx.close()"
   ]
  },
  {
   "cell_type": "code",
   "execution_count": null,
   "metadata": {},
   "outputs": [],
   "source": [
    "# filter duplicate entities\n",
    "filtered_entities = set(filtered_entities)"
   ]
  },
  {
   "cell_type": "code",
   "execution_count": null,
   "metadata": {},
   "outputs": [],
   "source": [
    "# form data frame\n",
    "df = pd.DataFrame(list(filtered_entities), columns=['subject','predicate','object'])"
   ]
  },
  {
   "cell_type": "markdown",
   "metadata": {},
   "source": [
    "# Append semantic type to CUI"
   ]
  },
  {
   "cell_type": "code",
   "execution_count": null,
   "metadata": {},
   "outputs": [],
   "source": [
    "type_name = {'T047':'Disease', 'T028':'Gene', \n",
    "             'T121':'PharmaSub', 'T103':'Chemical', 'T184':'Symptom'}\n",
    "entity_types = set(['T047', 'T028', 'T121', 'T103', 'T184'])"
   ]
  },
  {
   "cell_type": "code",
   "execution_count": null,
   "metadata": {},
   "outputs": [],
   "source": [
    "# initialize mysql connector\n",
    "import mysql.connector\n",
    "\n",
    "cnx = mysql.connector.connect(user='root', password='12345678',\n",
    "                              host='127.0.0.1',\n",
    "                              database='umls')\n",
    "cursor = cnx.cursor()"
   ]
  },
  {
   "cell_type": "code",
   "execution_count": null,
   "metadata": {},
   "outputs": [],
   "source": [
    "def append_type_name(cui):\n",
    "    tuis = get_oneof_type(cursor, cui, entity_types)\n",
    "    assert len(tuis) == 1\n",
    "    tui = tuis.pop()\n",
    "    return type_name[tui] + \"_\" + cui\n",
    "\n",
    "def strip_extension(path):\n",
    "    return path.split('.')[0]"
   ]
  },
  {
   "cell_type": "code",
   "execution_count": null,
   "metadata": {},
   "outputs": [],
   "source": [
    "df['object'] = df['object'].apply(append_type_name)\n",
    "df['subject'] = df['subject'].apply(strip_extension)"
   ]
  },
  {
   "cell_type": "markdown",
   "metadata": {},
   "source": [
    "## Output to file"
   ]
  },
  {
   "cell_type": "code",
   "execution_count": null,
   "metadata": {},
   "outputs": [],
   "source": [
    "df.to_csv(\"output_relations/filtered_semrep_entities/custom_license_pdf.csv\",index=False)"
   ]
  },
  {
   "cell_type": "markdown",
   "metadata": {},
   "source": [
    "# Consolidate several sources"
   ]
  },
  {
   "cell_type": "code",
   "execution_count": null,
   "metadata": {},
   "outputs": [],
   "source": [
    "input_folder = \"output_relations/filtered_semrep_entities\""
   ]
  },
  {
   "cell_type": "markdown",
   "metadata": {},
   "source": [
    "## read dataframes"
   ]
  },
  {
   "cell_type": "code",
   "execution_count": null,
   "metadata": {},
   "outputs": [],
   "source": [
    "dfs = []\n",
    "for path in os.listdir(input_folder):\n",
    "    dfs.append(pd.read_csv(os.path.join(input_folder, path)))\n",
    "    \n",
    "df = pd.concat(dfs)"
   ]
  },
  {
   "cell_type": "code",
   "execution_count": null,
   "metadata": {},
   "outputs": [],
   "source": [
    "df.to_csv('output_relations/solidated_semrep_entity.csv', index=False)"
   ]
  },
  {
   "cell_type": "code",
   "execution_count": null,
   "metadata": {},
   "outputs": [],
   "source": []
  }
 ],
 "metadata": {
  "kernelspec": {
   "display_name": "Python 3",
   "language": "python",
   "name": "python3"
  },
  "language_info": {
   "codemirror_mode": {
    "name": "ipython",
    "version": 3
   },
   "file_extension": ".py",
   "mimetype": "text/x-python",
   "name": "python",
   "nbconvert_exporter": "python",
   "pygments_lexer": "ipython3",
   "version": "3.6.7"
  }
 },
 "nbformat": 4,
 "nbformat_minor": 2
}
